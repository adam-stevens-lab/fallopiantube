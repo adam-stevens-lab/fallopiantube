{
 "cells": [
  {
   "cell_type": "markdown",
   "id": "6c51f778-cd0b-4cf1-8900-22be87f27153",
   "metadata": {},
   "source": [
    "## Clustering dinh dataset"
   ]
  },
  {
   "cell_type": "code",
   "execution_count": null,
   "id": "3c0c5ccd-8611-4430-8fcd-9d00d6481daf",
   "metadata": {},
   "outputs": [],
   "source": [
    "import numpy as np\n",
    "import pandas as pd\n",
    "import scanpy as sc\n",
    "import scanpy.external as sce\n",
    "from matplotlib import pyplot as plt\n",
    "import scvelo as scv"
   ]
  },
  {
   "cell_type": "code",
   "execution_count": null,
   "id": "dd46ca35-3d58-4b7a-b5bf-7a2e9a08ca75",
   "metadata": {},
   "outputs": [],
   "source": [
    "sc.settings.verbosity=3\n",
    "sc.logging.print_header()"
   ]
  },
  {
   "cell_type": "code",
   "execution_count": null,
   "id": "c3b955d8-104f-49d1-aca9-c64500209a38",
   "metadata": {},
   "outputs": [],
   "source": [
    "dinh = sc.read_loom('/home/j87832lw/mounting/oviduct/data/1a/Dinh.h5ad')"
   ]
  },
  {
   "cell_type": "code",
   "execution_count": null,
   "id": "3b7bdc22-ac7d-47ef-b4a3-3602b5658b34",
   "metadata": {},
   "outputs": [],
   "source": [
    "dinh.var_names_make_unique()\n",
    "sc.external.pp.scrublet(dinh)\n",
    "sc.pl.highest_expr_genes(dinh, n_top=20)\n",
    "sc.pp.filter_cells(dinh, min_genes=200)\n",
    "sc.pp.filter_genes(dinh, min_cells=3)\n",
    "dinh.var['mt']=dinh.var_names.str.startswith('MT-')\n",
    "sc.pp.calculate_qc_metrics(dinh, qc_vars=['mt'], percent_top=None, log1p=False, inplace=True)\n",
    "sc.pl.violin(dinh, ['n_genes_by_counts','total_counts','pct_counts_mt'],jitter=0.4, multi_panel=True)"
   ]
  },
  {
   "cell_type": "code",
   "execution_count": null,
   "id": "0f75c7e4-5a7b-4c20-a889-be90fb60c54a",
   "metadata": {},
   "outputs": [],
   "source": [
    "sc.pl.scatter(dinh, x='total_counts', y='pct_counts_mt')\n",
    "sc.pl.scatter(dinh, x='total_counts', y='n_genes_by_counts')"
   ]
  },
  {
   "cell_type": "code",
   "execution_count": null,
   "id": "1cb619ea-d0e1-485c-88a0-bdb343e6bce5",
   "metadata": {},
   "outputs": [],
   "source": [
    "dinh=dinh[dinh.obs.n_genes_by_counts <5000,:]\n",
    "dinh=dinh[dinh.obs.total_counts <250000,:]\n",
    "dinh=dinh[dinh.obs.pct_counts_mt <5,:]\n",
    "dinh.shape"
   ]
  },
  {
   "cell_type": "code",
   "execution_count": null,
   "id": "4ab8a833-5fa6-4f3d-b3af-4e37d626e226",
   "metadata": {},
   "outputs": [],
   "source": [
    "sc.pp.normalize_total(dinh, target_sum=1e4) \n",
    "sc.pp.log1p(dinh)\n",
    "sc.pp.highly_variable_genes(dinh, min_mean=0.0125, max_mean=3, min_disp=0.5)\n",
    "sc.pl.highly_variable_genes(dinh)\n",
    "dinh = dinh [:, dinh.var.highly_variable]\n",
    "sc.pp.scale(dinh, max_value=10)"
   ]
  },
  {
   "cell_type": "code",
   "execution_count": null,
   "id": "b5785b4c-c30d-4b2a-9d3e-fb56943bd8e9",
   "metadata": {},
   "outputs": [],
   "source": [
    "sce.pp.harmony_integrate(dinh, 'Run')\n",
    "dinh.obsm['X_pca'] = dinh.obsm['X_pca_harmony']\n",
    "sc.pp.neighbors(dinh, n_neighbors=10, n_pcs=8)\n",
    "sc.tl.umap(dinh)\n",
    "sc.tl.leiden(dinh, resolution=0.5)"
   ]
  },
  {
   "cell_type": "code",
   "execution_count": null,
   "id": "3d2b60d0-4cab-4375-94fa-00461a8fad2a",
   "metadata": {},
   "outputs": [],
   "source": [
    "sc.pl.umap(dinh, color=['leiden','Patient', 'Run'])\n",
    "sc.pl.umap(dinh, color=['leiden','JCHAIN','KLRC1','CD4','CD8A','CD3E','CD3G','OVGP1','SNTN','CCL14','COL1A1','PTPRC','CAPS','CD3E','TRBC1','DCN','TRAC','CD4','TPSAB1','LYZ'])"
   ]
  },
  {
   "cell_type": "code",
   "execution_count": null,
   "id": "87f34592-10d7-4328-b0c7-4eab18052144",
   "metadata": {},
   "outputs": [],
   "source": [
    "cell_dict = {'T-cell': ['0','1','3','8'], \n",
    " 'Fibroblast': ['2'],\n",
    " 'Ciliated': ['4','5'], \n",
    " 'Secretory': ['6'],\n",
    "'Monocytes': ['7'],\n",
    " 'Endothelial': ['9'],\n",
    " 'Smooth Muscle': ['10'], \n",
    " 'Mast': ['11'],\n",
    " 'Plasma/B-cell': ['12']}\n",
    "\n",
    "dinh.obs['Cell_Types'] = np.nan\n",
    "for i in cell_dict.keys():\n",
    "    ind = pd.Series(dinh.obs.leiden).isin(cell_dict[i])\n",
    "    dinh.obs.loc[ind,'Cell_Types'] = i"
   ]
  },
  {
   "cell_type": "code",
   "execution_count": null,
   "id": "b29dd7b1-8a5a-4648-8584-460355f35c07",
   "metadata": {},
   "outputs": [],
   "source": [
    "sc.pl.umap(dinh, color=['Cell_Types','leiden'], legend_loc='on data', legend_fontsize=6, save='dinh_labeled.pdf')\n",
    "sc.pl.umap(dinh, color=['Cell_Types'], legend_loc='right margin', legend_fontsize=14, save='dinhumap.pdf')\n"
   ]
  },
  {
   "cell_type": "code",
   "execution_count": null,
   "id": "9810372d-dc4a-425a-85ee-295bde2a1bf4",
   "metadata": {},
   "outputs": [],
   "source": [
    "results_file = '/home/j87832lw/mounting/oviduct/data/1a/dinh_clustering_renamedleidengroups.h5ad'\n",
    "dinh.write(results_file)"
   ]
  }
 ],
 "metadata": {
  "kernelspec": {
   "display_name": "Python 3 (ipykernel)",
   "language": "python",
   "name": "python3"
  },
  "language_info": {
   "codemirror_mode": {
    "name": "ipython",
    "version": 3
   },
   "file_extension": ".py",
   "mimetype": "text/x-python",
   "name": "python",
   "nbconvert_exporter": "python",
   "pygments_lexer": "ipython3",
   "version": "3.12.4"
  }
 },
 "nbformat": 4,
 "nbformat_minor": 5
}
