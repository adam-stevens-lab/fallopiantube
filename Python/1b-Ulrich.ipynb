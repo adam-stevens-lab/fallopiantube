{
 "cells": [
  {
   "cell_type": "markdown",
   "id": "be45314e-eb1f-4421-b4c5-660e8ed85446",
   "metadata": {},
   "source": [
    "## Clustering Ulrich dataset"
   ]
  },
  {
   "cell_type": "code",
   "execution_count": null,
   "id": "da3c3d6b-fe13-451a-af60-9a2a0a2aabe7",
   "metadata": {},
   "outputs": [],
   "source": [
    "import numpy as np\n",
    "import pandas as pd\n",
    "import scanpy as sc\n",
    "import scanpy.external as sce\n",
    "from matplotlib import pyplot as plt"
   ]
  },
  {
   "cell_type": "code",
   "execution_count": null,
   "id": "79cec8c0-d2af-4f16-89a0-dab3e1040e6a",
   "metadata": {},
   "outputs": [],
   "source": [
    "sc.settings.verbosity=3\n",
    "sc.logging.print_header()"
   ]
  },
  {
   "cell_type": "code",
   "execution_count": null,
   "id": "861959b6-46e1-49fa-bde2-c6b2db437d0d",
   "metadata": {},
   "outputs": [],
   "source": [
    "ulrich = sc.read_h5ad('/home/j87832lw/oviduct/Ulrich/ulrich_all.h5ad')"
   ]
  },
  {
   "cell_type": "code",
   "execution_count": null,
   "id": "cce8fb40-7539-4817-95e8-1156a48b4706",
   "metadata": {},
   "outputs": [],
   "source": [
    "ulrich.var_names_make_unique()\n",
    "sc.external.pp.scrublet(dinh)\n",
    "ulrich"
   ]
  },
  {
   "cell_type": "code",
   "execution_count": null,
   "id": "a6fd1233-861d-4f79-a5f8-8abd8dcafefb",
   "metadata": {},
   "outputs": [],
   "source": [
    "sc.pl.highest_expr_genes(ulrich, n_top=20)\n",
    "sc.pp.filter_cells(ulrich, min_genes=200)\n",
    "sc.pp.filter_genes(ulrich, min_cells=3)\n",
    "ulrich.var['mt']=ulrich.var_names.str.startswith('MT-')\n",
    "sc.pp.calculate_qc_metrics(ulrich, qc_vars=['mt'], percent_top=None, log1p=False, inplace=True)\n",
    "sc.pl.violin(ulrich, ['n_genes_by_counts','total_counts','pct_counts_mt'],jitter=0.4, multi_panel=True)"
   ]
  },
  {
   "cell_type": "code",
   "execution_count": null,
   "id": "e6291adc-364d-4e09-9f48-2a836fe8b4cf",
   "metadata": {},
   "outputs": [],
   "source": [
    "sc.pl.scatter(ulrich, x='total_counts', y='pct_counts_mt')\n",
    "sc.pl.scatter(ulrich, x='total_counts', y='n_genes_by_counts')"
   ]
  },
  {
   "cell_type": "code",
   "execution_count": null,
   "id": "a2f69716-5290-4c1d-9a55-178514009d67",
   "metadata": {},
   "outputs": [],
   "source": [
    "ulrich=ulrich[ulrich.obs.n_genes_by_counts <5500,:]\n",
    "ulrich=ulrich[ulrich.obs.total_counts <37500,:]\n",
    "ulrich=ulrich[ulrich.obs.pct_counts_mt <5,:]\n",
    "ulrich.shape"
   ]
  },
  {
   "cell_type": "code",
   "execution_count": null,
   "id": "b70c227b-fb3b-42cb-bda2-57f34784484d",
   "metadata": {},
   "outputs": [],
   "source": [
    "surgical_data = ulrich[ulrich.obs['Source'] == 'Surgical',:].copy()\n",
    "sc.pp.normalize_total(surgical_data, target_sum=1e4) \n",
    "surgical_data"
   ]
  },
  {
   "cell_type": "code",
   "execution_count": null,
   "id": "1e2a796b-8f33-4c7a-9933-bf087ce9e1ed",
   "metadata": {},
   "outputs": [],
   "source": [
    "sc.pp.log1p(surgical_data)\n",
    "sc.pp.highly_variable_genes(surgical_data, min_mean=0.0125, max_mean=3, min_disp=0.5)\n",
    "sc.pl.highly_variable_genes(surgical_data)"
   ]
  },
  {
   "cell_type": "code",
   "execution_count": null,
   "id": "4952a8f8-008b-4ab5-a763-906a9495bd72",
   "metadata": {},
   "outputs": [],
   "source": [
    "surgical_data.raw = surgical_data\n",
    "surgical_data = surgical_data [:,surgical_data.var.highly_variable]\n",
    "sc.pp.regress_out(surgical_data, ['total_counts','pct_counts_mt'])\n",
    "sc.pp.scale(surgical_data, max_value=10)\n",
    "sc.tl.pca(surgical_data, svd_solver='arpack')\n",
    "sc.pl.pca(surgical_data, color='OVGP1')"
   ]
  },
  {
   "cell_type": "code",
   "execution_count": null,
   "id": "a4f2d7a6-300a-4cd5-a992-c4d3725728e9",
   "metadata": {},
   "outputs": [],
   "source": [
    "sce.pp.harmony_integrate(surgical_data, 'Run')\n",
    "surgical_data.obsm['X_pca'] = surgical_data.obsm['X_pca_harmony']\n",
    "sc.pp.neighbors(surgical_data, n_neighbors=10, n_pcs=8)\n",
    "sc.tl.umap(surgical_data)\n",
    "sc.tl.leiden(surgical_data, resolution=0.49)\n",
    "sc.pl.umap(surgical_data, color=['leiden','Run', 'OVGP1','SNTN','FOXJ1','PAX8'])"
   ]
  },
  {
   "cell_type": "code",
   "execution_count": null,
   "id": "bab8c304-034d-472a-88e2-912e689f7d58",
   "metadata": {},
   "outputs": [],
   "source": [
    "cell_dict = {'Secretory': ['0','12','15','8'], \n",
    "'T-cell': ['1','6','18'],\n",
    " 'Fibroblast': ['2','3','4'],\n",
    " 'Ciliated': ['11'], \n",
    "'Monocytes': ['9'],\n",
    " 'Endothelial': ['7','8','17'],\n",
    " 'Smooth Muscle': ['5','10'], \n",
    " 'Mast': ['13'],\n",
    " 'Plasma/B-cell': ['14'],\n",
    " 'Dendritic':['16']}\n",
    "\n",
    "ulrich.obs['Cell_Types'] = np.nan\n",
    "for i in cell_dict.keys():\n",
    "    ind = pd.Series(ulrich.obs.leiden).isin(cell_dict[i])\n",
    "    ulrich.obs.loc[ind,'Cell_Types'] = i\n",
    "\n",
    "sc.pl.umap(ulrich, color=['Cell_Types'], legend_loc='right margin', legend_fontsize=14, legend_fontoutline=2, save='ulrichumap.png')"
   ]
  },
  {
   "cell_type": "code",
   "execution_count": null,
   "id": "6a7a2c60-58d4-41f3-8f19-b74d4a6473c6",
   "metadata": {},
   "outputs": [],
   "source": [
    "results_file = '/home/j87832lw/oviduct/Ulrich/write/ulrich_clustering_renamedleidengroups.h5ad'\n",
    "ulrich.write(results_file)"
   ]
  }
 ],
 "metadata": {
  "kernelspec": {
   "display_name": "Python 3 (ipykernel)",
   "language": "python",
   "name": "python3"
  },
  "language_info": {
   "codemirror_mode": {
    "name": "ipython",
    "version": 3
   },
   "file_extension": ".py",
   "mimetype": "text/x-python",
   "name": "python",
   "nbconvert_exporter": "python",
   "pygments_lexer": "ipython3",
   "version": "3.12.4"
  }
 },
 "nbformat": 4,
 "nbformat_minor": 5
}
