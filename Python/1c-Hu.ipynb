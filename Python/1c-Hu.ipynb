{
 "cells": [
  {
   "cell_type": "code",
   "execution_count": null,
   "id": "ca335b65-ec86-4fe4-b102-feeac3e8aba3",
   "metadata": {},
   "outputs": [],
   "source": [
    "## Hu clustering "
   ]
  },
  {
   "cell_type": "code",
   "execution_count": null,
   "id": "1f18f3a6-ecd5-48ec-8fe4-053a6802ab58",
   "metadata": {},
   "outputs": [],
   "source": [
    "import numpy as np\n",
    "import pandas as pd\n",
    "import scanpy as sc\n",
    "import scanpy.external as sce\n",
    "import scvelo as scv"
   ]
  },
  {
   "cell_type": "code",
   "execution_count": null,
   "id": "37bda99c-73b1-45a0-bf58-99402c2b1488",
   "metadata": {},
   "outputs": [],
   "source": [
    "sc.settings.verbosity=3\n",
    "sc.logging.print_header()"
   ]
  },
  {
   "cell_type": "code",
   "execution_count": null,
   "id": "d4b207c0-4305-4bb7-af80-1f44098aad94",
   "metadata": {},
   "outputs": [],
   "source": [
    "hu = sc.read_h5ad('/home/j87832lw/mounting/oviduct/data/1c/hu_raw.h5ad') \n",
    "hu.obs['Patient']= hu.obs['Patient'].astype('category')"
   ]
  },
  {
   "cell_type": "code",
   "execution_count": null,
   "id": "eacb4780-7b80-4d1b-ae90-c5eeffc29f00",
   "metadata": {},
   "outputs": [],
   "source": [
    "hu.var_names_make_unique()\n",
    "sc.external.pp.scrublet(hu)\n",
    "sc.pl.highest_expr_genes(hu, n_top=20, )"
   ]
  },
  {
   "cell_type": "code",
   "execution_count": null,
   "id": "a8a10bc7-5497-4b93-933f-46e0011b75aa",
   "metadata": {},
   "outputs": [],
   "source": [
    "sc.pp.filter_cells(hu, min_genes=200)\n",
    "sc.pp.filter_genes(hu, min_cells=3)\n",
    "hu.var['mt']=hu.var_names.str.startswith('MT-')\n",
    "sc.pp.calculate_qc_metrics(hu, qc_vars=['mt'], percent_top=None, log1p=False, inplace=True)\n",
    "sc.pl.violin(hu, ['n_genes_by_counts','total_counts','pct_counts_mt'],jitter=0.4, multi_panel=True)"
   ]
  },
  {
   "cell_type": "code",
   "execution_count": null,
   "id": "442184b1-363c-459c-be1a-7900354b491a",
   "metadata": {},
   "outputs": [],
   "source": [
    "sc.pl.scatter(hu, x='total_counts', y='pct_counts_mt')\n",
    "sc.pl.scatter(hu, x='total_counts', y='n_genes_by_counts')"
   ]
  },
  {
   "cell_type": "code",
   "execution_count": null,
   "id": "ae285b4c-c4d9-4ec8-af85-b9c7ed860c55",
   "metadata": {},
   "outputs": [],
   "source": [
    "hu=hu[hu.obs.n_genes_by_counts <5000,:]\n",
    "hu=hu[hu.obs.total_counts <1000000,:]\n",
    "hu=hu[hu.obs.pct_counts_mt <30,:]\n",
    "hu.shape"
   ]
  },
  {
   "cell_type": "code",
   "execution_count": null,
   "id": "5a651bd3-c4f8-4504-98e7-2c97d9eb7f0f",
   "metadata": {},
   "outputs": [],
   "source": [
    "sc.pp.normalize_total(hu, target_sum=1e4) \n",
    "sc.pp.log1p(hu)\n",
    "sc.pp.highly_variable_genes(hu, min_mean=0.0125, max_mean=3, min_disp=0.5)\n",
    "sc.pl.highly_variable_genes(hu)\n",
    "hu.raw = hu\n",
    "hu = hu [:, hu.var.highly_variable]\n",
    "sc.pp.regress_out(hu, ['total_counts','pct_counts_mt'])\n",
    "sc.pp.scale(hu, max_value=10)"
   ]
  },
  {
   "cell_type": "code",
   "execution_count": null,
   "id": "d670d497-5256-4843-8b57-3c7324c87b5a",
   "metadata": {},
   "outputs": [],
   "source": [
    "sc.tl.pca(hu, svd_solver='arpack')\n",
    "sc.pl.pca(hu, color='OVGP1')\n",
    "sc.pl.pca_variance_ratio(hu, log=True)\n",
    "sc.pp.neighbors(hu, n_neighbors=10, n_pcs=8)\n",
    "sc.tl.umap(hu)\n",
    "sc.tl.leiden(hu, resolution=0.4)\n",
    "sc.pl.umap(hu, color=['OVGP1','SNTN'])"
   ]
  },
  {
   "cell_type": "code",
   "execution_count": null,
   "id": "a94afb15-98f1-406a-9abe-25833aac217e",
   "metadata": {},
   "outputs": [],
   "source": [
    "sc.pl.umap(hu, color=['leiden','OVGP1','SNTN'])"
   ]
  },
  {
   "cell_type": "code",
   "execution_count": null,
   "id": "1b81a200-f80c-4c8d-ab9b-903ff7b71338",
   "metadata": {},
   "outputs": [],
   "source": [
    "sc.tl.rank_genes_groups(hu,'leiden', method='wilcoxon')\n",
    "sc.pl.rank_genes_groups(hu, n_genes=25, sharey=False)"
   ]
  },
  {
   "cell_type": "code",
   "execution_count": null,
   "id": "564ef67e-fdab-4ca0-b964-0e6749334a50",
   "metadata": {},
   "outputs": [],
   "source": [
    "cell_dict = {'Secretory': ['0','2','3','4','8'], \n",
    " 'Fibroblast': ['6'],\n",
    " 'Ciliated': ['1','5'], \n",
    "'Leukocytes': ['7'],\n",
    " 'Endothelial': ['9'],}\n",
    "\n",
    "hu.obs['Cell_Types'] = np.nan\n",
    "\n",
    "for i in cell_dict.keys():\n",
    "    ind = pd.Series(hu.obs.leiden).isin(cell_dict[i])\n",
    "    hu.obs.loc[ind,'Cell_Types'] = i"
   ]
  },
  {
   "cell_type": "code",
   "execution_count": null,
   "id": "3c5e4ce9-a7a6-4415-8ad0-30be30d8de18",
   "metadata": {},
   "outputs": [],
   "source": [
    "sc.pl.umap(hu, color=['Cell_Types'], legend_loc='right margin', legend_fontsize=12, save= 'huumap.png')"
   ]
  },
  {
   "cell_type": "code",
   "execution_count": null,
   "id": "9dc42ecc-1356-42cd-8050-1c4e2917bfc9",
   "metadata": {},
   "outputs": [],
   "source": [
    "results_file = ('/home/j87832lw/mounting/oviduct/data/1c/hu_clustering_renamedleidengroups.h5ad')\n",
    "hu.write(results_file)"
   ]
  }
 ],
 "metadata": {
  "kernelspec": {
   "display_name": "Python 3 (ipykernel)",
   "language": "python",
   "name": "python3"
  },
  "language_info": {
   "codemirror_mode": {
    "name": "ipython",
    "version": 3
   },
   "file_extension": ".py",
   "mimetype": "text/x-python",
   "name": "python",
   "nbconvert_exporter": "python",
   "pygments_lexer": "ipython3",
   "version": "3.12.4"
  }
 },
 "nbformat": 4,
 "nbformat_minor": 5
}
